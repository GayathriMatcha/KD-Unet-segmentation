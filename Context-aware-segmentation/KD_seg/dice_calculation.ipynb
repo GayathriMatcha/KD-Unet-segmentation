{
 "cells": [
  {
   "cell_type": "code",
   "execution_count": 4,
   "metadata": {},
   "outputs": [],
   "source": [
    "import os\n",
    "from os import listdir\n",
    "from os.path import isfile, join\n",
    "import numpy \n",
    "import cv2\n",
    "from medpy import metric\n",
    "\n",
    "#gtpath='C:/Users/Supreeti/Spine/MRI_spine/val/GroundTruth_new/'\n",
    "#predmpath = 'C:/Users/Supreeti/Spine/MRI_spine/val_out_mriac2/'\n",
    "gtpath = 'C:/Users/Supreeti/edge_detection/arteries/angio_gt/'\n",
    "predmpath = 'C:/Users/Supreeti/edge_detection/arteries/predicted_angio_post2/'\n",
    "#gtpath='C:/Users/Supreeti/Spine/xVertSeg.v1/groundtruth1_5/'\n",
    "#predmpath = 'C:/Users/Supreeti/Spine/xVertSeg.v1/val_out_ctac/'\n",
    "gtfiles = [ o for o in sorted(os.listdir(gtpath)) if isfile(join(gtpath,o)) ]\n",
    "predfiles = [ p for p in sorted(os.listdir(predmpath)) if isfile(join(predmpath,p)) ]\n",
    "gt_im = numpy.empty(len(gtfiles), dtype=object)\n",
    "predic_im = numpy.empty(len(gtfiles), dtype=object)\n",
    "#array_len = 204\n",
    "array_len = len(gt_im)\n",
    "mravd = numpy.empty(array_len, dtype=object)\n",
    "mdc = numpy.empty(array_len, dtype=object)\n",
    "masd = numpy.empty(array_len, dtype=object)\n",
    "mjc = numpy.empty(array_len, dtype=object)\n",
    "iou_score = numpy.empty(array_len, dtype=object)\n",
    "for n in range(0, array_len):\n",
    "    #print(n)\n",
    "    gt_im[n] = cv2.imread( join(gtpath,gtfiles[n]) )\n",
    "    predic_im[n] = cv2.imread(join(predmpath,predfiles[n]))\n",
    "    gt_im[n] =numpy.asarray(gt_im[n])\n",
    "    predic_im[n] = numpy.asarray(predic_im[n])\n",
    "    mravd[n] = metric.binary.ravd(gt_im[n],predic_im[n])\n",
    "    #print(n)\n",
    "    mdc[n] = metric.binary.dc(gt_im[n],predic_im[n])\n",
    "    masd[n] = metric.binary.asd(gt_im[n],predic_im[n])\n",
    "    mjc[n] = metric.binary.jc(gt_im[n],predic_im[n])"
   ]
  },
  {
   "cell_type": "code",
   "execution_count": 5,
   "metadata": {},
   "outputs": [],
   "source": [
    "avg_ravd = sum(mravd)/len(mravd)\n",
    "avd_dice = sum(mdc)/len(mdc)\n",
    "avg_masd = sum(masd)/len(masd)\n",
    "avg_mjc = sum(mjc)/len(mjc)"
   ]
  },
  {
   "cell_type": "code",
   "execution_count": 6,
   "metadata": {},
   "outputs": [
    {
     "data": {
      "text/plain": [
       "0.6457220254696561"
      ]
     },
     "execution_count": 6,
     "metadata": {},
     "output_type": "execute_result"
    }
   ],
   "source": [
    "avd_dice"
   ]
  },
  {
   "cell_type": "code",
   "execution_count": null,
   "metadata": {},
   "outputs": [],
   "source": [
    "mdc"
   ]
  },
  {
   "cell_type": "code",
   "execution_count": null,
   "metadata": {},
   "outputs": [],
   "source": [
    "import os\n",
    "from os import listdir\n",
    "from os.path import isfile, join\n",
    "import numpy \n",
    "import cv2\n",
    "from medpy import metric\n",
    "\n",
    "#gtpath='C:/Users/Supreeti/Spine/MRI_spine/val/GroundTruth_new/'\n",
    "#predmpath = 'C:/Users/Supreeti/Spine/MRI_spine/val_out_mriac2/'\n",
    "gtpath = 'C:/Users/Supreeti/edge_detection/arteries/angio_gt/'\n",
    "predmpath = 'C:/Users/Supreeti/edge_detection/arteries/predicted_angio_post2/'\n",
    "#gtpath='C:/Users/Supreeti/Spine/xVertSeg.v1/groundtruth1_5/'\n",
    "#predmpath = 'C:/Users/Supreeti/Spine/xVertSeg.v1/val_out_ctac/'\n",
    "gtfiles = [ o for o in sorted(os.listdir(gtpath)) if isfile(join(gtpath,o)) ]\n",
    "predfiles = [ p for p in sorted(os.listdir(predmpath)) if isfile(join(predmpath,p)) ]\n",
    "gt_im = numpy.empty(len(gtfiles), dtype=object)\n",
    "predic_im = numpy.empty(len(gtfiles), dtype=object)\n",
    "#array_len = 204\n",
    "array_len = len(gt_im)\n",
    "mravd = numpy.empty(array_len, dtype=object)\n",
    "mdc = numpy.empty(array_len, dtype=object)\n",
    "masd = numpy.empty(array_len, dtype=object)\n",
    "mjc = numpy.empty(array_len, dtype=object)\n",
    "iou_score = numpy.empty(array_len, dtype=object)\n",
    "for n in range(0, array_len):\n",
    "    #print(n)\n",
    "    gt_im[n] = cv2.imread( join(gtpath,gtfiles[n]) )\n",
    "    predic_im[n] = cv2.imread(join(predmpath,predfiles[n]))\n",
    "    gt_im[n] =numpy.asarray(gt_im[n])\n",
    "    predic_im[n] = numpy.asarray(predic_im[n])\n",
    "    mravd[n] = metric.binary.ravd(gt_im[n],predic_im[n])\n",
    "    #print(n)\n",
    "    mdc[n] = metric.binary.dc(gt_im[n],predic_im[n])\n",
    "    masd[n] = metric.binary.asd(gt_im[n],predic_im[n])\n",
    "    mjc[n] = metric.binary.jc(gt_im[n],predic_im[n])"
   ]
  },
  {
   "cell_type": "code",
   "execution_count": null,
   "metadata": {},
   "outputs": [],
   "source": [
    "predic_im[1] = predic_im[1].astype(numpy.uint8)\n",
    "gt_im[1] = gt_im[1].astype(numpy.uint8)\n",
    "if predic_im[1] == gt_im[1]==1:\n",
    "    TP += 1"
   ]
  },
  {
   "cell_type": "code",
   "execution_count": null,
   "metadata": {},
   "outputs": [],
   "source": [
    "!git clone https://github.com/quantumjot/unet_segmentation_metrics.git"
   ]
  },
  {
   "cell_type": "code",
   "execution_count": null,
   "metadata": {},
   "outputs": [],
   "source": [
    "!pip install"
   ]
  },
  {
   "cell_type": "code",
   "execution_count": null,
   "metadata": {},
   "outputs": [],
   "source": [
    "mdc_HED_23"
   ]
  },
  {
   "cell_type": "code",
   "execution_count": null,
   "metadata": {
    "scrolled": true
   },
   "outputs": [],
   "source": [
    "mdc"
   ]
  },
  {
   "cell_type": "code",
   "execution_count": null,
   "metadata": {},
   "outputs": [],
   "source": [
    "import os\n",
    "from os import listdir\n",
    "from os.path import isfile, join\n",
    "import numpy \n",
    "import cv2\n",
    "from medpy import metric"
   ]
  },
  {
   "cell_type": "code",
   "execution_count": null,
   "metadata": {},
   "outputs": [],
   "source": [
    "gt_im = cv2.imread('C:/Users/Supreeti/edge_detection_style_transfer/ICIP/vertebrae_segmentation_output/52_23_o.png')\n",
    "predic_im1 = cv2.imread('C:/Users/Supreeti/edge_detection_style_transfer/ICIP/vertebrae_segmentation_output/52_23.png')\n",
    "predic_im2 = cv2.imread('C:/Users/Supreeti/edge_detection_style_transfer/ICIP/vertebrae_segmentation_output/52_23_s.png')\n",
    "predic_imca = cv2.imread('C:/Users/Supreeti/edge_detection_style_transfer/ICIP/vertebrae_segmentation_output/52_23_stylized_cartoon_AdaIN.png')\n",
    "predic_imba = cv2.imread('C:/Users/Supreeti/edge_detection_style_transfer/ICIP/vertebrae_segmentation_output/52_23_stylized_bird_AdaIN.png')\n",
    "predic_imbp = cv2.imread('C:/Users/Supreeti/edge_detection_style_transfer/ICIP/vertebrae_segmentation_output/52_23_stylized_bird_proposed.png')\n",
    "predic_imcp = cv2.imread('C:/Users/Supreeti/edge_detection_style_transfer/ICIP/vertebrae_segmentation_output/52_23_stylized_cartoon_proposed.png')\n",
    "predic_imga = cv2.imread('C:/Users/Supreeti/edge_detection_style_transfer/ICIP/vertebrae_segmentation_output/52_23_stylized_girl_AdaIN.png')\n",
    "predic_imgp = cv2.imread('C:/Users/Supreeti/edge_detection_style_transfer/ICIP/vertebrae_segmentation_output/52_23_stylized_girl_proposed.png')\n",
    "gt_im =numpy.asarray(gt_im)\n",
    "predic_im1 = numpy.asarray(predic_im1)\n",
    "predic_im2 = numpy.asarray(predic_im2)\n",
    "predic_imca = numpy.asarray(predic_imca)\n",
    "predic_imcp = numpy.asarray(predic_imcp)\n",
    "predic_imba = numpy.asarray(predic_imba)\n",
    "predic_imbp = numpy.asarray(predic_imbp)\n",
    "predic_imga = numpy.asarray(predic_imga)\n",
    "predic_imgp = numpy.asarray(predic_imgp)\n",
    "mdc1 = metric.binary.dc(gt_im,predic_im1)\n",
    "mdc2 = metric.binary.dc(gt_im,predic_im2)\n",
    "mdcca = metric.binary.dc(gt_im,predic_imca)\n",
    "mdccp = metric.binary.dc(gt_im,predic_imcp)\n",
    "mdcba = metric.binary.dc(gt_im,predic_imba)\n",
    "mdcbp = metric.binary.dc(gt_im,predic_imbp)\n",
    "mdcga = metric.binary.dc(gt_im,predic_imga)\n",
    "mdcgp = metric.binary.dc(gt_im,predic_imgp)"
   ]
  },
  {
   "cell_type": "code",
   "execution_count": null,
   "metadata": {},
   "outputs": [],
   "source": [
    "mdc1"
   ]
  },
  {
   "cell_type": "code",
   "execution_count": null,
   "metadata": {},
   "outputs": [],
   "source": [
    "print(mdc2)\n",
    "print(mdcca)\n",
    "print(mdccp)\n",
    "print(mdcba)\n",
    "print(mdcbp)\n",
    "print(mdcga)\n",
    "print(mdcgp)"
   ]
  },
  {
   "cell_type": "code",
   "execution_count": null,
   "metadata": {},
   "outputs": [],
   "source": [
    "mdc3"
   ]
  },
  {
   "cell_type": "code",
   "execution_count": null,
   "metadata": {},
   "outputs": [],
   "source": [
    "mdc4"
   ]
  },
  {
   "cell_type": "code",
   "execution_count": null,
   "metadata": {},
   "outputs": [],
   "source": [
    "gt_im = cv2.imread('C:/Users/Supreeti/Spine/xVertSeg.v1/Data1/mask001/203_1.png'  )\n",
    "predic_im = cv2.imread('C:/Users/Supreeti/Spine/xVertSeg.v1/Data1/pred_mask1/203_1.png')\n",
    "#gt_im =np.asarray(gt_im)\n",
    "#predic_im = np.asarray(predic_im)"
   ]
  },
  {
   "cell_type": "code",
   "execution_count": null,
   "metadata": {},
   "outputs": [],
   "source": [
    "import cv2\n",
    "import numpy as np"
   ]
  },
  {
   "cell_type": "code",
   "execution_count": null,
   "metadata": {},
   "outputs": [],
   "source": [
    "def dice_coef(y_true, y_pred):\n",
    "    y_true_f = y_true.flatten()\n",
    "    y_pred_f = y_pred.flatten()\n",
    "    intersection = np.sum(y_true_f * y_pred_f)\n",
    "    smooth = 0.0001\n",
    "    return (2. * intersection + smooth) / (np.sum(y_true_f) + np.sum(y_pred_f) + smooth)\n",
    "\n",
    "\n",
    "def dice_coef_multilabel(y_true, y_pred, numLabels):\n",
    "    dice=0\n",
    "    for index in range(numLabels):\n",
    "        dice += dice_coef(y_true[:,:,index], y_pred[:,:,:,index])\n",
    "    return dice/numLabels # taking average"
   ]
  },
  {
   "cell_type": "code",
   "execution_count": null,
   "metadata": {},
   "outputs": [],
   "source": [
    "dice_score = dice_coef_multilabel(gt_im, predic_im, 5)"
   ]
  },
  {
   "cell_type": "code",
   "execution_count": null,
   "metadata": {},
   "outputs": [],
   "source": [
    "dice = dice_coef(gt_im, predic_im)"
   ]
  },
  {
   "cell_type": "code",
   "execution_count": null,
   "metadata": {},
   "outputs": [],
   "source": [
    "dice"
   ]
  },
  {
   "cell_type": "code",
   "execution_count": null,
   "metadata": {},
   "outputs": [],
   "source": [
    "mdc"
   ]
  },
  {
   "cell_type": "code",
   "execution_count": null,
   "metadata": {},
   "outputs": [],
   "source": [
    "mdc"
   ]
  },
  {
   "cell_type": "code",
   "execution_count": null,
   "metadata": {
    "scrolled": true
   },
   "outputs": [],
   "source": [
    "mdc"
   ]
  },
  {
   "cell_type": "code",
   "execution_count": null,
   "metadata": {},
   "outputs": [],
   "source": [
    "mdc"
   ]
  },
  {
   "cell_type": "code",
   "execution_count": null,
   "metadata": {},
   "outputs": [],
   "source": [
    "mdc"
   ]
  },
  {
   "cell_type": "code",
   "execution_count": null,
   "metadata": {},
   "outputs": [],
   "source": [
    "n"
   ]
  },
  {
   "cell_type": "code",
   "execution_count": null,
   "metadata": {},
   "outputs": [],
   "source": [
    "mdc"
   ]
  },
  {
   "cell_type": "code",
   "execution_count": null,
   "metadata": {},
   "outputs": [],
   "source": []
  }
 ],
 "metadata": {
  "kernelspec": {
   "display_name": "Python 3",
   "language": "python",
   "name": "python3"
  },
  "language_info": {
   "codemirror_mode": {
    "name": "ipython",
    "version": 3
   },
   "file_extension": ".py",
   "mimetype": "text/x-python",
   "name": "python",
   "nbconvert_exporter": "python",
   "pygments_lexer": "ipython3",
   "version": "3.6.9"
  }
 },
 "nbformat": 4,
 "nbformat_minor": 2
}
