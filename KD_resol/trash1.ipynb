{
 "cells": [
  {
   "cell_type": "code",
   "execution_count": null,
   "id": "b76a734b",
   "metadata": {},
   "outputs": [
    {
     "name": "stdout",
     "output_type": "stream",
     "text": [
      "TensorFlow installation not found - running with reduced feature set.\n",
      "\n",
      "NOTE: Using experimental fast data loading logic. To disable, pass\n",
      "    \"--load_fast=false\" and report issues on GitHub. More details:\n",
      "    https://github.com/tensorflow/tensorboard/issues/4784\n",
      "\n",
      "TensorBoard 2.9.1 at http://172.16.101.61:4007/ (Press CTRL+C to quit)\n",
      "\u001b[0m\u001b[38;5;8m[\u001b[0m2022-12-08T05:24:06Z \u001b[0m\u001b[33mWARN \u001b[0m rustboard_core::run\u001b[0m\u001b[38;5;8m]\u001b[0m Read error in /media/hticimg/data1/Data/MRI/datasets/calgary_dataset/experiments/calgary/sr3/Resol_kd_cc/summary/events.out.tfevents.1670387897.hticimg: ReadRecordError(BadLengthCrc(ChecksumError { got: MaskedCrc(0x07980329), want: MaskedCrc(0x00000000) }))\n"
     ]
    }
   ],
   "source": [
    "import tensorboard\n",
    "import numpy as np\n",
    "import torch\n",
    "\n",
    "## Teacher:\n",
    "\n",
    "# !CUDA_VISIBLE_DEVICES=\"\" tensorboard --logdir=./cardiac_DCTeacherUNet/models_local/summary --port 4008 --host 172.16.101.10\n",
    "# !CUDA_VISIBLE_DEVICES=\"\" tensorboard --logdir=./exp/Seg_UNet_base/summary --port 4008 --host 172.16.101.53\n",
    "!CUDA_VISIBLE_DEVICES=\"\" tensorboard --logdir=/media/hticimg/data1/Data/MRI/datasets/calgary_dataset/experiments/calgary/sr3 --port 4007 --host 172.16.101.61"
   ]
  },
  {
   "cell_type": "code",
   "execution_count": null,
   "id": "0c9657d9",
   "metadata": {},
   "outputs": [],
   "source": [
    "import numpy as np\n",
    "# import basics.slice_view as slice_view\n",
    "import matplotlib.pyplot as plt\n",
    "\n",
    "\n",
    "import h5py\n",
    "# filename = \"/media/hticimg/data1/Data/MRI/datasets/calgary_dataset/cartesian/train/acc_4x/e13991s3_P01536.7.h5\"\n",
    "filename = \"/media/hticimg/data1/Data/MRI/datasets/calgary_dataset/train/acc_4x/e13991s3_P01536.7.h5\"\n",
    "\n",
    "\n",
    "with h5py.File(filename, \"r\") as f:\n",
    "    # List all groups\n",
    "    print(\"Keys: %s\" % f.keys())\n",
    "    a_group_key = list(f.keys())[2]\n",
    "    print(list(f.keys())[1])\n",
    "    print(f['img_volus_4x'].shape,f['kspace_volus_4x'].shape,f['volfs'].shape)\n",
    "\n",
    "    # Get the data\n",
    "#     data = list(f[a_group_key])\n",
    "#     data_T2 = np.asarray(f[a_group_key])\n",
    "    coord = np.asarray(f['img_volus_4x'])\n",
    "    img = np.asarray(f['kspace_volus_4x'])\n",
    "    img_main = np.asarray(f['volfs'])\n"
   ]
  },
  {
   "cell_type": "code",
   "execution_count": null,
   "id": "6d3a9798",
   "metadata": {},
   "outputs": [],
   "source": [
    "img1=img_main[50,:,:,0]\n",
    "# print(np.unique(img1))\n",
    "print(img1.shape)\n",
    "# plt.imshow(img1,'gray')"
   ]
  },
  {
   "cell_type": "code",
   "execution_count": null,
   "id": "03efb60b",
   "metadata": {},
   "outputs": [],
   "source": [
    "mask = np.zeros([256,256])\n",
    "mask[128-32:128+32,128-32:128+32] = 1\n",
    "# mask = np.zeros([2,256,256])\n",
    "# mask[:,128-32:128+32,128-32:128+32] = 1"
   ]
  },
  {
   "cell_type": "code",
   "execution_count": null,
   "id": "87b36e68",
   "metadata": {},
   "outputs": [],
   "source": [
    "kspace = np.fft.fft2(img1,norm='ortho')\n",
    "kspace_shifted = np.fft.fftshift(kspace)\n",
    "truncated_kspace = mask * kspace_shifted\n",
    "lr_img = np.abs(np.fft.ifft2(truncated_kspace,norm='ortho'))\n",
    "# print(truncated_kspace.shape,mask.shape,kspace_shifted.shape)\n",
    "plt.imshow(lr_img,'gray')"
   ]
  },
  {
   "cell_type": "code",
   "execution_count": null,
   "id": "8bf30c84",
   "metadata": {},
   "outputs": [],
   "source": [
    "mask = np.ones([256,256])\n",
    "mask[128-32:128+32,128-32:128+32] = 0\n",
    "kspace = np.fft.fft2(img1,norm='ortho')\n",
    "kspace_shifted = np.fft.fftshift(kspace)\n",
    "truncated_kspace = mask * kspace_shifted\n",
    "lr_img = np.abs(np.fft.ifft2(truncated_kspace,norm='ortho'))\n",
    "# print(truncated_kspace.shape,mask.shape,kspace_shifted.shape)\n",
    "plt.imshow(lr_img,'gray')"
   ]
  },
  {
   "cell_type": "code",
   "execution_count": null,
   "id": "266e8061",
   "metadata": {},
   "outputs": [],
   "source": [
    "import numpy as np\n",
    "\n",
    "img_array = np.load('/media/hticimg/data1/Data/MRI/usmasks/calgary_dataset/cartesian/mask_4x.npy')\n",
    "from matplotlib import pyplot as plt\n",
    "\n",
    "plt.imshow(img_array, cmap='gray')\n",
    "plt.show()"
   ]
  },
  {
   "cell_type": "code",
   "execution_count": null,
   "id": "1b7ff48e",
   "metadata": {},
   "outputs": [],
   "source": []
  },
  {
   "cell_type": "code",
   "execution_count": null,
   "id": "223220aa",
   "metadata": {},
   "outputs": [],
   "source": [
    "# # print(coord,img.shape,mask.shape)\n",
    "\n",
    "# plt.imshow(img,'gray')\n",
    "# # plt.imshow(mask,'gray')\n",
    "# plt.show()\n",
    "\n",
    "# plt.imshow(mask,'gray')\n",
    "# plt.show()\n",
    "# # import cv2"
   ]
  },
  {
   "cell_type": "code",
   "execution_count": null,
   "id": "f9f7890c",
   "metadata": {},
   "outputs": [],
   "source": []
  },
  {
   "cell_type": "code",
   "execution_count": null,
   "id": "a89cdb9b",
   "metadata": {},
   "outputs": [],
   "source": []
  },
  {
   "cell_type": "code",
   "execution_count": null,
   "id": "ce853344",
   "metadata": {},
   "outputs": [],
   "source": [
    "import SimpleITK as sitk\n",
    "import sys\n",
    "import glob\n",
    "import os\n",
    "# %matplotlib inline\n",
    "import matplotlib.pyplot as plt\n",
    "\n",
    "# sys.path.insert(0,'./basics/')\n",
    "# import basics.slice_view as slice_view\n",
    "\n",
    "import torch\n",
    "import torch.nn as nn\n",
    "from torch.utils.data import DataLoader\n",
    "import torch.nn.functional as F\n",
    "\n",
    "# torchsummary and torchvision\n",
    "from torchsummary import summary\n",
    "from torchvision.utils import save_image\n",
    "\n",
    "# matplotlib stuff\n",
    "import matplotlib.pyplot as plt\n",
    "import matplotlib.image as img\n",
    "\n",
    "# numpy and pandas\n",
    "import numpy as np\n",
    "import pandas as pd\n",
    "\n",
    "# Common python packages\n",
    "import datetime\n",
    "import os\n",
    "import sys\n",
    "import time\n",
    "\n",
    "import pathlib\n",
    "import random\n",
    "\n",
    "import h5py\n",
    "# from torch.utils.data import Dataset\n",
    "import torch\n",
    "from skimage import feature\n",
    "# from utils import npComplexToTorch"
   ]
  },
  {
   "cell_type": "code",
   "execution_count": null,
   "id": "069ccbbd",
   "metadata": {},
   "outputs": [],
   "source": [
    "from models import *"
   ]
  },
  {
   "cell_type": "code",
   "execution_count": null,
   "id": "cbfd9ade",
   "metadata": {},
   "outputs": [],
   "source": [
    "x = torch.rand((1,2,256,256))\n",
    "teacher = TeacherVDSR()\n",
    "y=teacher(x)\n",
    "print(y[0].shape,y[1].shape)"
   ]
  },
  {
   "cell_type": "code",
   "execution_count": null,
   "id": "84cd44b3",
   "metadata": {},
   "outputs": [],
   "source": [
    "import numpy as np\n",
    "import matplotlib.pyplot as plt\n",
    "import cvxpy as cp\n",
    "import plotter\n",
    "from pathlib import Path\n",
    "import os\n",
    "\n",
    "\n",
    "class OTSolver(object):\n",
    "    def __init__(self, dist1, dist2, marginal1=None, marginal2=None, ground_cost='l2', logdir='results'):\n",
    "        self.dist1 = dist1\n",
    "        self.dist2 = dist2\n",
    "        nsamples1 = dist1.shape[0]\n",
    "        nsamples2 = dist2.shape[0]\n",
    "        self.nsamples1 = nsamples1\n",
    "        self.nsamples2 = nsamples2\n",
    "\n",
    "        if marginal1 is None:\n",
    "            self.marginal1 = np.array([1/nsamples1 for i in range(nsamples1)])\n",
    "        else:\n",
    "            self.marginal1 = marginal1\n",
    "\n",
    "        if marginal2 is None:\n",
    "            self.marginal2 = np.array([1/nsamples2 for i in range(nsamples2)])\n",
    "        else:\n",
    "            self.marginal2 = marginal2\n",
    "        self.marginal1 = np.expand_dims(self.marginal1, axis=1)\n",
    "        self.marginal2 = np.expand_dims(self.marginal2, axis=1)\n",
    "\n",
    "        self.ground_cost = ground_cost\n",
    "        assert ground_cost in ['l2']\n",
    "        self.logdir = logdir\n",
    "        Path(self.logdir).mkdir(parents=True, exist_ok=True)\n",
    "\n",
    "    def form_cost_matrix(self, x, y):\n",
    "        if self.ground_cost == 'l2':\n",
    "            return np.sum(x ** 2, 1)[:, None] + np.sum(y ** 2, 1)[None, :] - 2 * x.dot(y.transpose())\n",
    "\n",
    "    def solve(self, plot=False):\n",
    "        C = self.form_cost_matrix(self.dist1, self.dist2)\n",
    "        P = cp.Variable((self.nsamples1, self.nsamples2))\n",
    "\n",
    "        u = np.ones((self.nsamples2, 1))\n",
    "        v = np.ones((self.nsamples1, 1))\n",
    "        constraints = [0 <= P, cp.matmul(P, u) == self.marginal1, cp.matmul(P.T, v) == self.marginal2]\n",
    "\n",
    "        objective = cp.Minimize(cp.sum(cp.multiply(P, C)))\n",
    "        prob = cp.Problem(objective, constraints)\n",
    "        result = prob.solve()\n",
    "        coupling = P.value\n",
    "\n",
    "        print(\"Number of non-zero values in P: {} (n + m-1 = %d)\".format(len(coupling[coupling > 1e-5]),\n",
    "                                                                         self.nsamples1 + self.nsamples2 - 1))\n",
    "        print(\"Objective function: {}\".format(objective.value))\n",
    "\n",
    "        if plot:\n",
    "            print('Generating plots ...')\n",
    "            plotter.generate_scatter_plots(self.dist1, self.dist2,\n",
    "                                           '{}/orig.png'.format(self.logdir))\n",
    "            plotter.generate_scatter_plots_with_coupling(self.dist1, self.dist2, coupling,\n",
    "                                                         '{}/coupling.png'.format(self.logdir))\n",
    "\n",
    "        OT_cost = objective.value\n",
    "        return OT_cost"
   ]
  },
  {
   "cell_type": "code",
   "execution_count": null,
   "id": "b294eb08",
   "metadata": {},
   "outputs": [],
   "source": [
    "# !pip install cvxpy\n",
    "# !pip install plotter\n",
    "# !pip install tikzplotlib\n"
   ]
  },
  {
   "cell_type": "code",
   "execution_count": null,
   "id": "0b309552",
   "metadata": {},
   "outputs": [],
   "source": [
    "X = torch.ones((4,2,5,5))\n",
    "Y = torch.zeros((4,2,5,5))\n",
    "X=X.permute(0,1,2,)\n",
    "# y=x\n",
    "y=Y.numpy()\n",
    "x=X.numpy()\n",
    "\n",
    "x=x.reshape(,25)\n",
    "y=y.reshape(8,25)"
   ]
  },
  {
   "cell_type": "code",
   "execution_count": null,
   "id": "c760c5e8",
   "metadata": {},
   "outputs": [],
   "source": [
    "OT_cost=OTSolver(x,y)"
   ]
  },
  {
   "cell_type": "code",
   "execution_count": null,
   "id": "32ba5e4d",
   "metadata": {},
   "outputs": [],
   "source": [
    "c=OT_cost.solve()"
   ]
  },
  {
   "cell_type": "code",
   "execution_count": null,
   "id": "d9d3c3cf",
   "metadata": {},
   "outputs": [],
   "source": [
    "import torch\n",
    "from torch.autograd import Variable\n",
    "import torch.nn.functional as F\n",
    "import numpy as np\n",
    "import time\n",
    "from torch import nn"
   ]
  },
  {
   "cell_type": "code",
   "execution_count": null,
   "id": "dcc15be8",
   "metadata": {},
   "outputs": [],
   "source": [
    "class REMD(nn.Module):\n",
    "    \"\"\"Relaxed Eatth Mover Distance from the paper Model Compression using OT \n",
    "    Code from author: https://github.com/sunniesuhyoung/DST/blob/master/loss.py\"\"\"\n",
    "    def __init__(self):\n",
    "        super(REMD, self).__init__()\n",
    "    \n",
    "    def forward(self, f_s, f_t):\n",
    "        return self.remd_loss(f_s, f_t)\n",
    "\n",
    "    def pairwise_distances_cos(self,x, y):\n",
    "        x_norm = torch.sqrt((x**2).sum(1).view(-1, 1))\n",
    "        y_t = torch.transpose(y, 0, 1)\n",
    "        y_norm = torch.sqrt((y**2).sum(1).view(1, -1))\n",
    "        dist = 1.-torch.mm(x, y_t)/x_norm/y_norm\n",
    "        return dist\n",
    "\n",
    "    def pairwise_distances_sq_l2(self,x, y):\n",
    "        x_norm = (x**2).sum(1).view(-1, 1)\n",
    "        y_t = torch.transpose(y, 0, 1)\n",
    "        y_norm = (y**2).sum(1).view(1, -1)\n",
    "        dist = x_norm + y_norm - 2.0 * torch.mm(x, y_t)\n",
    "        return torch.clamp(dist, 1e-5, 1e5)/x.size(1)\n",
    "\n",
    "    def distmat(self,x, y):\n",
    "        M = self.pairwise_distances_cos(x, y)\n",
    "            # M = torch.sqrt(pairwise_distances_sq_l2(x, y))\n",
    "        return M\n",
    "\n",
    "\n",
    "    def remd_loss(self,X, Y):\n",
    "        d = X.shape[1]\n",
    "        e = X.shape[0]\n",
    "        print(d,e,X.shape,Y.shape)\n",
    "        X = X.transpose(0, 1).contiguous().view(d*e, -1).transpose(0, 1)\n",
    "        Y = Y.transpose(0, 1).contiguous().view(d*e, -1).transpose(0, 1)\n",
    "        print(X.shape)\n",
    "        print(Y.shape)\n",
    "        CX_M = self.distmat(X, Y)\n",
    "        m1, m1_inds = CX_M.min(1)\n",
    "        m2, m2_inds = CX_M.min(0)\n",
    "\n",
    "        loss = torch.max(m1.mean(), m2.mean())\n",
    "        return loss"
   ]
  },
  {
   "cell_type": "code",
   "execution_count": null,
   "id": "67c0b74c",
   "metadata": {},
   "outputs": [],
   "source": [
    "loss = REMD()"
   ]
  },
  {
   "cell_type": "code",
   "execution_count": null,
   "id": "bfee2ec5",
   "metadata": {},
   "outputs": [],
   "source": [
    "X = torch.randn((4,2,5,5))\n",
    "Y = torch.randn((4,2,5,5))\n",
    "# print(X,Y)"
   ]
  },
  {
   "cell_type": "code",
   "execution_count": null,
   "id": "169e54ae",
   "metadata": {},
   "outputs": [],
   "source": [
    "# print(X.shape)\n",
    "\n",
    "ot=loss(X,Y)\n",
    "ot"
   ]
  },
  {
   "cell_type": "code",
   "execution_count": null,
   "id": "e9c9be77",
   "metadata": {},
   "outputs": [],
   "source": [
    "y=Y.numpy()\n",
    "x=X.numpy()\n",
    "\n",
    "x=x.reshape(8,25)\n",
    "y=y.reshape(8,25)\n",
    "OT_cost=OTSolver(x,y)\n",
    "c=OT_cost.solve()"
   ]
  },
  {
   "cell_type": "code",
   "execution_count": null,
   "id": "7491894f",
   "metadata": {},
   "outputs": [],
   "source": [
    "x=x.reshape(25,8)\n",
    "y=y.reshape(25,8)\n",
    "OT_cost=OTSolver(x,y)\n",
    "c=OT_cost.solve()"
   ]
  },
  {
   "cell_type": "code",
   "execution_count": null,
   "id": "136a575c",
   "metadata": {},
   "outputs": [],
   "source": []
  }
 ],
 "metadata": {
  "kernelspec": {
   "display_name": "Python 3",
   "language": "python",
   "name": "python3"
  },
  "language_info": {
   "codemirror_mode": {
    "name": "ipython",
    "version": 3
   },
   "file_extension": ".py",
   "mimetype": "text/x-python",
   "name": "python",
   "nbconvert_exporter": "python",
   "pygments_lexer": "ipython3",
   "version": "3.6.9"
  }
 },
 "nbformat": 4,
 "nbformat_minor": 5
}
