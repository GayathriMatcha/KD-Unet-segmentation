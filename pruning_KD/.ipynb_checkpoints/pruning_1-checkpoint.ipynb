{
 "cells": [
  {
   "cell_type": "code",
   "execution_count": null,
   "id": "204458ca",
   "metadata": {
    "code_folding": []
   },
   "outputs": [
    {
     "name": "stdout",
     "output_type": "stream",
     "text": [
      "TensorFlow installation not found - running with reduced feature set.\n",
      "\n",
      "NOTE: Using experimental fast data loading logic. To disable, pass\n",
      "    \"--load_fast=false\" and report issues on GitHub. More details:\n",
      "    https://github.com/tensorflow/tensorboard/issues/4784\n",
      "\n",
      "TensorBoard 2.9.1 at http://172.16.101.174:4009/ (Press CTRL+C to quit)\n"
     ]
    }
   ],
   "source": [
    "import tensorboard\n",
    "import numpy as np\n",
    "import torch\n",
    "import os\n",
    "import sys\n",
    "\n",
    "# sys.path.insert(0,'/media/hticimg/data1/Data/MRI/')\n",
    "## Teacher:\n",
    "\n",
    "!CUDA_VISIBLE_DEVICES=\"\" tensorboard --logdir=exp/prune_kd/mrbrain_t1/cartesian/acc_4x/  --port 4009 --host 172.16.101.174"
   ]
  },
  {
   "cell_type": "markdown",
   "id": "150879d6",
   "metadata": {},
   "source": [
    "# PRUNING:\n",
    "---"
   ]
  },
  {
   "cell_type": "code",
   "execution_count": 7,
   "id": "cbc83159",
   "metadata": {},
   "outputs": [
    {
     "name": "stdout",
     "output_type": "stream",
     "text": [
      "/media/hticimg/data1/Data/MRI\n"
     ]
    }
   ],
   "source": [
    "cd media/hticimg/data1/Data/MRI/"
   ]
  },
  {
   "cell_type": "markdown",
   "id": "20caa136",
   "metadata": {},
   "source": [
    "### REQUIREMENTS:"
   ]
  },
  {
   "cell_type": "code",
   "execution_count": null,
   "id": "5e39352f",
   "metadata": {},
   "outputs": [],
   "source": [
    "import torch\n",
    "from torch import nn\n",
    "import torch.nn.utils.prune as prune\n",
    "import torch.nn.functional as F"
   ]
  },
  {
   "cell_type": "code",
   "execution_count": 4,
   "id": "3313ec76",
   "metadata": {},
   "outputs": [],
   "source": [
    "import sys\n",
    "import logging\n",
    "import pathlib\n",
    "import random\n",
    "import shutil\n",
    "import time\n",
    "import functools\n",
    "import numpy as np\n",
    "import argparse\n",
    "\n",
    "##\n",
    "#\n",
    "import torch\n",
    "import torchvision\n",
    "from tensorboardX import SummaryWriter\n",
    "from torch.nn import functional as F\n",
    "from torch.utils.data import DataLoader\n",
    "# from dataset_1 import SliceData,KneeData\n",
    "from models import DCTeacherNet,DCStudentNet,DCTeacherNetSFTN\n",
    "import torchvision\n",
    "from torch import nn\n",
    "from torch.autograd import Variable\n",
    "from torch import optim\n",
    "from tqdm import tqdm\n",
    "#"
   ]
  },
  {
   "cell_type": "markdown",
   "id": "efb25f98",
   "metadata": {},
   "source": [
    "## Create a model:"
   ]
  },
  {
   "cell_type": "code",
   "execution_count": null,
   "id": "482609d8",
   "metadata": {},
   "outputs": [],
   "source": [
    "device = torch.device(\"cuda:0\" if torch.cuda.is_available() else \"cpu\")\n",
    "model = DCTeacherNet().to(device)\n",
    "# print(model)"
   ]
  },
  {
   "cell_type": "code",
   "execution_count": null,
   "id": "c1bff2a9",
   "metadata": {},
   "outputs": [],
   "source": [
    "from torchsummary import summary\n",
    "# model = ConvNet()\n",
    "summary(model, [(1, 240, 240),(1,240,240,2),(1,240,240)])"
   ]
  },
  {
   "cell_type": "markdown",
   "id": "c5eeed0c",
   "metadata": {},
   "source": [
    "## Inspect a Module:\n",
    "Let’s inspect the (unpruned) conv1 layer in our LeNet model. It will contain two parameters weight and bias, and no buffers, for now."
   ]
  },
  {
   "cell_type": "code",
   "execution_count": null,
   "id": "7975e3a8",
   "metadata": {},
   "outputs": [],
   "source": [
    "module = model.tcascade1.conv1\n",
    "print(list(module.named_parameters()))"
   ]
  },
  {
   "cell_type": "code",
   "execution_count": null,
   "id": "8721caf5",
   "metadata": {},
   "outputs": [],
   "source": [
    "print(list(module.named_buffers()))"
   ]
  },
  {
   "cell_type": "markdown",
   "id": "9a234e1b",
   "metadata": {},
   "source": [
    "## Pruning a Module:\n",
    "To prune a module (in this example, the conv1 layer of our LeNet architecture), first select a pruning technique among those available in torch.nn.utils.prune (or implement your own by subclassing BasePruningMethod). Then, specify the module and the name of the parameter to prune within that module. Finally, using the adequate keyword arguments required by the selected pruning technique, specify the pruning parameters.\n",
    "\n",
    "In this example, we will prune at random 30% of the connections in the parameter named weight in the conv1 layer. The module is passed as the first argument to the function; name identifies the parameter within that module using its string identifier; and amount indicates either the percentage of connections to prune (if it is a float between 0. and 1.), or the absolute number of connections to prune (if it is a non-negative integer)."
   ]
  },
  {
   "cell_type": "code",
   "execution_count": null,
   "id": "964ebcc2",
   "metadata": {},
   "outputs": [],
   "source": [
    "prune.random_unstructured(module, name=\"weight\", amount=0.3)"
   ]
  },
  {
   "cell_type": "markdown",
   "id": "20ac9d5a",
   "metadata": {},
   "source": [
    "Pruning acts by removing weight from the parameters and replacing it with a new parameter called weight_orig (i.e. appending \"_orig\" to the initial parameter name). weight_orig stores the unpruned version of the tensor. The bias was not pruned, so it will remain intact."
   ]
  },
  {
   "cell_type": "code",
   "execution_count": null,
   "id": "185582ef",
   "metadata": {},
   "outputs": [],
   "source": []
  }
 ],
 "metadata": {
  "kernelspec": {
   "display_name": "Python 3",
   "language": "python",
   "name": "python3"
  },
  "language_info": {
   "codemirror_mode": {
    "name": "ipython",
    "version": 3
   },
   "file_extension": ".py",
   "mimetype": "text/x-python",
   "name": "python",
   "nbconvert_exporter": "python",
   "pygments_lexer": "ipython3",
   "version": "3.6.9"
  }
 },
 "nbformat": 4,
 "nbformat_minor": 5
}
