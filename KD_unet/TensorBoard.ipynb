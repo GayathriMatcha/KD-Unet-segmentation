{
 "cells": [
  {
   "cell_type": "code",
   "execution_count": null,
   "id": "40a2fcf6",
   "metadata": {},
   "outputs": [
    {
     "name": "stdout",
     "output_type": "stream",
     "text": [
      "TensorFlow installation not found - running with reduced feature set.\n",
      "\n",
      "NOTE: Using experimental fast data loading logic. To disable, pass\n",
      "    \"--load_fast=false\" and report issues on GitHub. More details:\n",
      "    https://github.com/tensorflow/tensorboard/issues/4784\n",
      "\n",
      "TensorBoard 2.9.1 at http://172.16.101.10:4008/ (Press CTRL+C to quit)\n"
     ]
    }
   ],
   "source": [
    "import tensorboard\n",
    "# !pip install pytorch_ssim\n",
    "# !pip install runstats\n",
    "import numpy as np\n",
    "import torch\n",
    "\n",
    "## Teacher:\n",
    "\n",
    "!CUDA_VISIBLE_DEVICES=\"\" tensorboard --logdir=./exp/mrbrain_t1/cartesian/acc_4x/attention_imitation_kdSFTN/summary --port 4008 --host 172.16.101.10"
   ]
  },
  {
   "cell_type": "code",
   "execution_count": 3,
   "id": "671a6a5e",
   "metadata": {},
   "outputs": [
    {
     "data": {
      "text/plain": [
       "40500"
      ]
     },
     "execution_count": 3,
     "metadata": {},
     "output_type": "execute_result"
    }
   ],
   "source": [
    "270*150"
   ]
  },
  {
   "cell_type": "code",
   "execution_count": 4,
   "id": "e1fac837",
   "metadata": {},
   "outputs": [
    {
     "data": {
      "text/plain": [
       "11.25"
      ]
     },
     "execution_count": 4,
     "metadata": {},
     "output_type": "execute_result"
    }
   ],
   "source": [
    "40500/(60*60)"
   ]
  },
  {
   "cell_type": "code",
   "execution_count": 8,
   "id": "a90146d4",
   "metadata": {},
   "outputs": [
    {
     "name": "stdout",
     "output_type": "stream",
     "text": [
      "Keys: <KeysViewHDF5 ['img_volus_4x', 'kspace_volus_4x', 'volfs']>\n",
      "kspace_volus_4x\n",
      "(150, 150, 9)\n"
     ]
    }
   ],
   "source": [
    "import h5py\n",
    "filename = \"/media/hticimg/data1/Data/MRI/datasets/cardiac/cartesian/train/acc_4x/10.h5\"\n",
    "\n",
    "with h5py.File(filename, \"r\") as f:\n",
    "    # List all groups\n",
    "    print(\"Keys: %s\" % f.keys())\n",
    "    a_group_key = list(f.keys())[1]\n",
    "    print(list(f.keys())[1])\n",
    "    print(f[a_group_key].shape)\n",
    "\n",
    "    # Get the data\n",
    "#     data = list(f[a_group_key])\n",
    "    data_T2 = np.asarray(f[a_group_key])\n",
    "\n",
    "    \n",
    "# data"
   ]
  },
  {
   "cell_type": "code",
   "execution_count": null,
   "id": "88ec6374",
   "metadata": {},
   "outputs": [],
   "source": []
  }
 ],
 "metadata": {
  "kernelspec": {
   "display_name": "Python 3",
   "language": "python",
   "name": "python3"
  },
  "language_info": {
   "codemirror_mode": {
    "name": "ipython",
    "version": 3
   },
   "file_extension": ".py",
   "mimetype": "text/x-python",
   "name": "python",
   "nbconvert_exporter": "python",
   "pygments_lexer": "ipython3",
   "version": "3.6.9"
  }
 },
 "nbformat": 4,
 "nbformat_minor": 5
}
