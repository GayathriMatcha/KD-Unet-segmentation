{
 "cells": [
  {
   "cell_type": "code",
   "execution_count": null,
   "id": "9c4ee7b0",
   "metadata": {},
   "outputs": [],
   "source": [
    "import torch\n",
    "from torch.optim import Adam\n",
    "from torch.nn import functional as F\n",
    "\n",
    "# Define the teacher network and student network\n",
    "teacher = TeacherNetwork()\n",
    "student = StudentNetwork()\n",
    "\n",
    "# Define the optimizer for the student network\n",
    "optimizer = Adam(student.parameters())\n",
    "\n",
    "# Define a dataset of input examples\n",
    "inputs = torch.randn(100, 3, 32, 32)\n",
    "\n",
    "# Compute teacher features\n",
    "teacher_features = teacher.extract_features(inputs)\n",
    "\n",
    "# Training loop\n",
    "for i in range(num_epochs):\n",
    "    # Compute the student's predicted features\n",
    "    student_features = student.extract_features(inputs)\n",
    "    \n",
    "    # Compute the EMD loss between the student's features and the teacher's features\n",
    "    emd_loss = F.emd_loss(student_features, teacher_features)\n",
    "    \n",
    "    # Backpropagate the loss and update the student's parameters\n",
    "    optimizer.zero_grad()\n",
    "    emd_loss.backward()\n",
    "    optimizer.step()\n"
   ]
  },
  {
   "cell_type": "markdown",
   "id": "5c28865d",
   "metadata": {},
   "source": [
    "Here we use the extract_features function to get the features maps from the teacher and student network, and then calculate the EMD loss between them. As I've said before, Pytorch does not have built in function for EMD, so you would have to use it from other library or create it by yourself. It's also worth noting that this is just a simplified example and you'll likely want to use more advanced techniques like data augmentation, learning rate scheduling, etc. to improve performance. Also the EMD loss alone may not be enought to train the student, it is common to use it in combination with other losses like cross entropy or MSE."
   ]
  },
  {
   "cell_type": "code",
   "execution_count": null,
   "id": "0919b927",
   "metadata": {},
   "outputs": [],
   "source": [
    "import torch\n",
    "from torch.optim import Adam\n",
    "from torch.nn import functional as F\n",
    "\n",
    "# Define the teacher network and student network\n",
    "teacher = TeacherNetwork()\n",
    "student = StudentNetwork()\n",
    "\n",
    "# Define the optimizer for the student network\n",
    "optimizer = Adam(student.parameters())\n",
    "\n",
    "# Define a dataset of input examples\n",
    "inputs = torch.randn(100, 3, 32, 32)\n",
    "targets = teacher(inputs)\n",
    "\n",
    "# Training loop\n",
    "for i in range(num_epochs):\n",
    "    # Compute the student's predicted outputs\n",
    "    student_outputs = student(inputs)\n",
    "    \n",
    "    # Compute the EMD loss between the student's predictions and the teacher's predictions\n",
    "    emd_loss = F.emd_loss(student_outputs, targets)\n",
    "    \n",
    "    # Backpropagate the loss and update the student's parameters\n",
    "    optimizer.zero_grad()\n",
    "    emd_loss.backward()\n",
    "    optimizer.step()\n"
   ]
  },
  {
   "cell_type": "markdown",
   "id": "2db8ce65",
   "metadata": {},
   "source": [
    "Please note that Pytorch does not have built in function for EMD, so you would have to use it from other library or create it by yourself.\n",
    "\n",
    "It's also worth noting that this is just a simplified example and you'll likely want to use more advanced techniques like data augmentation, learning rate scheduling, etc. to improve performance. Also the EMD loss alone may not be enought to train the student, it is common to use it in combination with other losses like cross entropy or MSE."
   ]
  },
  {
   "cell_type": "code",
   "execution_count": null,
   "id": "a9ac20ba",
   "metadata": {},
   "outputs": [],
   "source": [
    "import torch\n",
    "from torch.nn import functional as F\n",
    "\n",
    "# Define the two sets of features maps\n",
    "student_features = torch.randn(100, 512, 8, 8)\n",
    "teacher_features = torch.randn(100, 512, 8, 8)\n",
    "\n",
    "# Define a distance matrix, which measures the dissimilarity between each pair of features\n",
    "distance_matrix = F.pairwise_distance(student_features.view(100, -1), teacher_features.view(100, -1))\n",
    "\n",
    "# Define a flow matrix, which represents the \"flow\" of probability mass between the two sets of features\n",
    "flow_matrix = torch.randn(100, 512, 512)\n",
    "\n",
    "# Compute the EMD loss between the student's features and the teacher's features\n",
    "emd_loss = torch.mean(torch.\n"
   ]
  },
  {
   "cell_type": "code",
   "execution_count": null,
   "id": "6d50494a",
   "metadata": {},
   "outputs": [],
   "source": []
  }
 ],
 "metadata": {
  "kernelspec": {
   "display_name": "Python 3",
   "language": "python",
   "name": "python3"
  },
  "language_info": {
   "codemirror_mode": {
    "name": "ipython",
    "version": 3
   },
   "file_extension": ".py",
   "mimetype": "text/x-python",
   "name": "python",
   "nbconvert_exporter": "python",
   "pygments_lexer": "ipython3",
   "version": "3.6.9"
  }
 },
 "nbformat": 4,
 "nbformat_minor": 5
}
